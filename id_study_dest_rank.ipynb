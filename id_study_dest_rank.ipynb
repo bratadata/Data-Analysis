{
  "nbformat": 4,
  "nbformat_minor": 0,
  "metadata": {
    "colab": {
      "provenance": []
    },
    "kernelspec": {
      "name": "python3",
      "display_name": "Python 3"
    },
    "language_info": {
      "name": "python"
    }
  },
  "cells": [
    {
      "cell_type": "markdown",
      "source": [
        "**1. Loading and Preprocessing **(replace missing values with 0)"
      ],
      "metadata": {
        "id": "Y4ujKDDaCN2Y"
      }
    },
    {
      "cell_type": "code",
      "source": [],
      "metadata": {
        "id": "GcLcq36-GnPz"
      },
      "execution_count": null,
      "outputs": []
    },
    {
      "cell_type": "code",
      "source": [
        "import pandas as pd\n",
        "import matplotlib.pyplot as plt\n",
        "import seaborn as sns\n",
        "\n",
        "# Load the CSV file into a DataFrame\n",
        "df = pd.read_csv('Country_des_id.csv')\n",
        "\n",
        "# Fill missing values in 'Value' column with 0\n",
        "df['Value'].fillna(0, inplace=True)\n",
        "\n",
        "# Filter data for the years 2018 to 2022\n",
        "df_filtered = df[df['TIME'].between(2018, 2022)]"
      ],
      "metadata": {
        "id": "nUK7HdlXCOc8"
      },
      "execution_count": 10,
      "outputs": []
    },
    {
      "cell_type": "markdown",
      "source": [
        "**2. Determine the Top 10 Destinations for Each Year**\n",
        "\n",
        "To visualize the top 10 destinations per year, we need to group the data by both 'Country' and 'TIME' and then sort it for each year"
      ],
      "metadata": {
        "id": "4xBF86UKCd9E"
      }
    },
    {
      "cell_type": "code",
      "source": [
        "# Initialize an empty list to store ranking tables\n",
        "ranking_tables = []\n",
        "\n",
        "# Loop through each year to generate rankings\n",
        "for year in range(2018, 2023):\n",
        "    # Filter data for the current year\n",
        "    df_year = df_filtered[df_filtered['TIME'] == year]\n",
        "\n",
        "    # Rank countries by number of students in descending order\n",
        "    df_year_ranked = df_year.sort_values(by='Value', ascending=False).reset_index(drop=True)\n",
        "\n",
        "    # Assign a rank column\n",
        "    df_year_ranked['Rank'] = df_year_ranked['Value'].rank(ascending=False, method='min').astype(int)\n",
        "\n",
        "    # Extract the top 10 countries\n",
        "    top10 = df_year_ranked.head(10)\n",
        "\n",
        "    # Check if Republic of Korea is in the top 10; if not, add it\n",
        "    if 'Republic of Korea' not in top10['Country'].values:\n",
        "        korea_row = df_year_ranked[df_year_ranked['Country'] == 'Republic of Korea']\n",
        "        top10 = pd.concat([top10, korea_row])\n",
        "\n",
        "    # Add the year column\n",
        "    top10['Year'] = year\n",
        "\n",
        "    # Append the table to the list\n",
        "    ranking_tables.append(top10[['Year', 'Country', 'Value', 'Rank']])\n",
        "\n",
        "# Combine all ranking tables into one DataFrame\n",
        "final_ranking_table = pd.concat(ranking_tables, ignore_index=True)\n",
        "\n",
        "# Display the final ranking table\n",
        "print(final_ranking_table)"
      ],
      "metadata": {
        "id": "CZt_2zdwCdsz",
        "colab": {
          "base_uri": "https://localhost:8080/"
        },
        "outputId": "2e477383-a4ff-418b-c8ab-41f6db15506b"
      },
      "execution_count": 13,
      "outputs": [
        {
          "output_type": "stream",
          "name": "stdout",
          "text": [
            "    Year                                            Country        Value  Rank\n",
            "0   2018                                          Australia  12180.00000     1\n",
            "1   2018                           United States of America   8452.13687     2\n",
            "2   2018                                              Japan   4187.00000     3\n",
            "3   2018  United Kingdom of Great Britain and Northern I...   2986.00000     4\n",
            "4   2018                                            Germany   2419.00000     5\n",
            "5   2018                                       Saudi Arabia   1715.00000     6\n",
            "6   2018                                        Netherlands   1569.00000     7\n",
            "7   2018                                  Republic of Korea   1006.00000     8\n",
            "8   2018                                             Canada    950.51968     9\n",
            "9   2018                                             France    808.00000    10\n",
            "10  2019                                          Australia  13880.00000     1\n",
            "11  2019                                           Malaysia   8440.00000     2\n",
            "12  2019                                              Japan   4722.00000     3\n",
            "13  2019  United Kingdom of Great Britain and Northern I...   3087.00000     4\n",
            "14  2019                                            Germany   2460.00000     5\n",
            "15  2019                                       Saudi Arabia   1453.00000     6\n",
            "16  2019                                        Netherlands   1373.00000     7\n",
            "17  2019                                            Türkiye   1218.00000     8\n",
            "18  2019                                             Canada   1101.00000     9\n",
            "19  2019                                  Republic of Korea   1087.00000    10\n",
            "20  2020                                          Australia  12852.00000     1\n",
            "21  2020                                           Malaysia   9902.00000     2\n",
            "22  2020                           United States of America   8038.85670     3\n",
            "23  2020                                              Egypt   5937.00000     4\n",
            "24  2020                                              Japan   5095.00000     5\n",
            "25  2020  United Kingdom of Great Britain and Northern I...   3420.00000     6\n",
            "26  2020                                            Germany   2832.00000     7\n",
            "27  2020                                            Türkiye   1664.00000     8\n",
            "28  2020                                       Saudi Arabia   1551.00000     9\n",
            "29  2020                                             Canada   1362.00000    10\n",
            "30  2020                                  Republic of Korea   1078.00000    11\n",
            "31  2021                                          Australia  11683.00000     1\n",
            "32  2021                                           Malaysia   9874.00000     2\n",
            "33  2021                           United States of America   7445.48219     3\n",
            "34  2021                                              Japan   5086.00000     4\n",
            "35  2021  United Kingdom of Great Britain and Northern I...   3124.00000     5\n",
            "36  2021                                            Germany   2886.00000     6\n",
            "37  2021                                            Türkiye   2252.00000     7\n",
            "38  2021                                       Saudi Arabia   1934.00000     8\n",
            "39  2021                                             Canada   1437.00000     9\n",
            "40  2021                                  Republic of Korea   1185.00000    10\n",
            "41  2022                                          Australia  11516.00000     1\n",
            "42  2022                                           Malaysia   9862.00000     2\n",
            "43  2022  United Kingdom of Great Britain and Northern I...   3676.00000     3\n",
            "44  2022                                       Saudi Arabia   2001.00000     4\n",
            "45  2022                                  Republic of Korea   1417.00000     5\n",
            "46  2022                                             France    828.20480     6\n",
            "47  2022     China, Hong Kong Special Administrative Region    679.00000     7\n",
            "48  2022                                           Thailand    587.00000     8\n",
            "49  2022                                 Russian Federation    516.00000     9\n",
            "50  2022                                             Jordan    445.00000    10\n"
          ]
        },
        {
          "output_type": "stream",
          "name": "stderr",
          "text": [
            "<ipython-input-13-13b215ea6853>:24: SettingWithCopyWarning: \n",
            "A value is trying to be set on a copy of a slice from a DataFrame.\n",
            "Try using .loc[row_indexer,col_indexer] = value instead\n",
            "\n",
            "See the caveats in the documentation: https://pandas.pydata.org/pandas-docs/stable/user_guide/indexing.html#returning-a-view-versus-a-copy\n",
            "  top10['Year'] = year\n",
            "<ipython-input-13-13b215ea6853>:24: SettingWithCopyWarning: \n",
            "A value is trying to be set on a copy of a slice from a DataFrame.\n",
            "Try using .loc[row_indexer,col_indexer] = value instead\n",
            "\n",
            "See the caveats in the documentation: https://pandas.pydata.org/pandas-docs/stable/user_guide/indexing.html#returning-a-view-versus-a-copy\n",
            "  top10['Year'] = year\n",
            "<ipython-input-13-13b215ea6853>:24: SettingWithCopyWarning: \n",
            "A value is trying to be set on a copy of a slice from a DataFrame.\n",
            "Try using .loc[row_indexer,col_indexer] = value instead\n",
            "\n",
            "See the caveats in the documentation: https://pandas.pydata.org/pandas-docs/stable/user_guide/indexing.html#returning-a-view-versus-a-copy\n",
            "  top10['Year'] = year\n",
            "<ipython-input-13-13b215ea6853>:24: SettingWithCopyWarning: \n",
            "A value is trying to be set on a copy of a slice from a DataFrame.\n",
            "Try using .loc[row_indexer,col_indexer] = value instead\n",
            "\n",
            "See the caveats in the documentation: https://pandas.pydata.org/pandas-docs/stable/user_guide/indexing.html#returning-a-view-versus-a-copy\n",
            "  top10['Year'] = year\n"
          ]
        }
      ]
    }
  ]
}